{
 "cells": [
  {
   "cell_type": "markdown",
   "metadata": {
    "deletable": true,
    "editable": true
   },
   "source": [
    "# Solving MIP\n",
    "\n",
    "To include Line numbers: select cell -> ctrl + m -> l (= ell) (without ctrl)\n",
    "\n",
    "Run the cells with code in order; a cell is run by pressing shift+ enter\n",
    "\n",
    "### Disitrubtion dependence \n",
    "The code as written below works for *all* instances. \n",
    "\n",
    "However for possible speed-up we've added minor changes for instances from the discrete Uniform distribution. Our changes can be found as comment in the code. These changes need not be made in order for the code to work on instances form the Uniform distribution. "
   ]
  },
  {
   "cell_type": "code",
   "execution_count": 1,
   "metadata": {
    "collapsed": false,
    "deletable": true,
    "editable": true
   },
   "outputs": [],
   "source": [
    "using JuMP\n",
    "using CPLEX"
   ]
  },
  {
   "cell_type": "markdown",
   "metadata": {
    "deletable": true,
    "editable": true
   },
   "source": [
    "## Solving MIP\n",
    "For JuMP documentation: https://media.readthedocs.org/pdf/jump/latest/jump.pdf \n",
    "\n",
    "For CPLEX documentation: https://github.com/JuliaOpt/CPLEX.jl \n",
    "\n"
   ]
  },
  {
   "cell_type": "code",
   "execution_count": 2,
   "metadata": {
    "collapsed": false,
    "deletable": true,
    "editable": true,
    "scrolled": true
   },
   "outputs": [
    {
     "data": {
      "text/plain": [
       "solveIP (generic function with 1 method)"
      ]
     },
     "execution_count": 2,
     "metadata": {},
     "output_type": "execute_result"
    }
   ],
   "source": [
    "function solveIP(n::Int,d::Int,C::Array{Float32,3})  \n",
    "    #function solveIP(n::Int,d::Int,m::Int,C::Array{Int64,3})\n",
    "    \n",
    "    model = Model(solver=CplexSolver(CPX_PARAM_SCRIND=0, CPX_PARAM_TILIM = 3600)); \n",
    "\n",
    "    mi = minimum(C);  # remove this line for Uniform specific\n",
    "    ma = maximum(C);  # remove this line for Uniform specific\n",
    "    bigM::Float32 =  ma + 1;  # bigM::Float32 =  m + 1;\n",
    "\n",
    "    @variable(model,t);\n",
    "    @variable(model,mi <= u[1:d] <= ma);  # @variable(model,0 <= u[1:d] <= m, Int);\n",
    "    @variable(model,mi <= l[1:d] <= ma);  # @variable(model,0 <= l[1:d] <= m, Int);\n",
    "    @variable(model,0 <= x[1:n,1:n] <= 1, Int);\n",
    "\n",
    "    @objective(model, Min, t);\n",
    "\n",
    "    @constraints(model, begin     \n",
    "        Assignment1[i in 1:n], sum(x[i,j] for j = 1:n) == 1\n",
    "        Assignment2[j in 1:n], sum(x[i,j] for i = 1:n) == 1\n",
    "\n",
    "        UpperBound[i in 1:n, j in 1:n, k in 1:d], C[i,j,k]*x[i,j] <= u[k]\n",
    "        LowerBound[i in 1:n, j in 1:n, k in 1:d], l[k] <= C[i,j,k]*x[i,j] + bigM*(1-x[i,j])\n",
    "        Objective[k in 1:d], u[k] - l[k] <= t\n",
    "     end);\n",
    " \n",
    "    status = solve(model);\n",
    "    OPT = getobjectivevalue(model);\n",
    "    \n",
    "# determine arg_k\n",
    "        upper = Float32[mi for k in 1:d];  # upper = Float32[0 for k in 1:d];\n",
    "        lower = Float32[ma for k in 1:d];  # lower = Float32[2*m for k in 1:d];\n",
    "       for(z2 in 1:n)\n",
    "            for(z1 in 1:n)\n",
    "                if(getvalue(x)[z1,z2] == 1)\n",
    "                    for k in 1:d\n",
    "                        if(C[z1,z2,k] <= lower[k])\n",
    "                            lower[k] = C[z1,z2,k]\n",
    "                        elseif(C[z1,z2,k] >= upper[k])\n",
    "                            upper[k] = C[z1,z2,k]\n",
    "                        end\n",
    "                    end # end for k\n",
    "                end\n",
    "            end # for z1\n",
    "        end #for z2\n",
    "        A_max = maximum(upper-lower);\n",
    "        ArgOpt = find(a->a==A_max, upper-lower);\n",
    "        print(\" \", OPT, \" \", sum(ArgOpt)/length(ArgOpt),\" \", length(ArgOpt), \" \");\n",
    "\n",
    "end"
   ]
  },
  {
   "cell_type": "markdown",
   "metadata": {
    "collapsed": false,
    "deletable": true,
    "editable": true
   },
   "source": [
    "# choose instance type + run\n",
    "\n",
    "First call of the function requires more running time, due to compiling.\n",
    "Hence we first solve a small test instance, before running the actual instances."
   ]
  },
  {
   "cell_type": "code",
   "execution_count": null,
   "metadata": {
    "collapsed": false,
    "deletable": true,
    "editable": true,
    "scrolled": true
   },
   "outputs": [
    {
     "name": "stdout",
     "output_type": "stream",
     "text": [
      "testing + compiling\n",
      " 1.1839523315429141 2.0 1   4.393509 seconds (5.23 M allocations: 219.347 MB, 1.72% gc time)\n",
      " \n",
      " \n",
      "MIP:Uniform100n=10d=2\n",
      "Ist1 35.0 2.0 1   0.082887 seconds (3.64 k allocations: 459.891 KB)\n",
      "Ist2 34.0 2.0 1   0.078427 seconds (3.88 k allocations: 499.344 KB)\n",
      "Ist3 40.0 1.0 1   0.079777 seconds (3.65 k allocations: 460.047 KB)\n",
      "Ist4 43.0 2.0 1   0.108754 seconds (3.88 k allocations: 495.750 KB)\n",
      "Ist5 42.0 1.0 1   0.086817 seconds (3.64 k allocations: 459.813 KB)\n",
      "Ist6 35.0 1.5 2   0.072198 seconds (3.88 k allocations: 495.531 KB)\n",
      "Ist7 38.0 1.5 2   0.130965 seconds (3.89 k allocations: 499.938 KB)\n",
      "Ist8 37.99999999999999 2.0 1   0.103942 seconds (3.88 k allocations: 495.188 KB)\n",
      "Ist9 38.0 2.0 1   0.122623 seconds (3.88 k allocations: 498.859 KB)\n",
      "Ist10 41.0 2.0 1   0.117558 seconds (3.88 k allocations: 494.578 KB)\n",
      "MIP:Uniform100n=10d=100\n",
      "Ist1 94.0 47.666666666666664 3  15.609827 seconds (181.41 k allocations: 13.625 MB, 0.12% gc time)\n",
      "Ist2 94.0 39.25 4   8.669603 seconds (181.38 k allocations: 13.621 MB)\n",
      "Ist3 94.0 41.666666666666664 3   9.928130 seconds (181.39 k allocations: 13.622 MB, 0.10% gc time)\n",
      "Ist4 94.0 43.4 5  12.146586 seconds (181.38 k allocations: 13.625 MB, 0.13% gc time)\n",
      "Ist5 94.0 61.57142857142857 7  12.457948 seconds (181.38 k allocations: 13.620 MB)\n",
      "Ist6 93.0 27.0 1   9.032453 seconds (181.37 k allocations: 13.623 MB, 0.17% gc time)\n",
      "Ist7 94.0 75.0 2   9.342576 seconds (181.38 k allocations: 13.621 MB, 0.07% gc time)\n",
      "Ist8"
     ]
    }
   ],
   "source": [
    "    println(\"testing + compiling\")\n",
    "    C3 = Float32[1 for i in 1:3, j in 1:3, k in 1:3];\n",
    "    temp = readdlm(pwd()\"/test/Norm1.txt\")\n",
    "    for(j in 1:3)\n",
    "        for i in 1:3\n",
    "          for k in 1:3\n",
    "             C3[i,j,k] = temp[3*(i-1)+j,k];    \n",
    "          end\n",
    "        end\n",
    "    end\n",
    "    @time solveIP(3,3,C3)\n",
    "\n",
    "\n",
    "#############  Run all instances Class 1  #########\n",
    "\n",
    "for m in [100,1000]\n",
    "    for n in [10,20]  \n",
    "        println(\" \")\n",
    "        println(\" \")\n",
    "        for d in [2,100,300]\n",
    "            println(\"MIP:Uniform\", m, \"n=\", n, \"d=\", d)\n",
    "            for iter in 1:10\n",
    "                #local C2 = Int64[1 for i in 1:n, j in 1:n, k in 1:d];\n",
    "                local C2 = Float32[1 for i in 1:n, j in 1:n, k in 1:d];\n",
    "                temp = readdlm(pwd()\"/U(0,\"*string(m)*\")/n\"*string(n)*\"d\"*string(d)*\"/Ist\"*string(iter)*\".txt\")    \n",
    "                for( j in 1:n)\n",
    "                    for i in 1:n\n",
    "                        for k in 1:d\n",
    "                            C2[i,j,k] = temp[n*(i-1)+j,k];    \n",
    "                        end\n",
    "                    end\n",
    "                end\n",
    "                print(\"Ist\", iter)\n",
    "               #@time solveIP(n,d,m,C2)\n",
    "                @time solveIP(n,d,C2)\n",
    "            end\n",
    "        end\n",
    "    end\n",
    "end\n",
    "\n",
    "for E in [50,500]\n",
    "    for S in [1,10]\n",
    "        println(\" \")\n",
    "        println(\" \")\n",
    "        for n in [10,20]\n",
    "            for d in [2,100,300]\n",
    "                println(\"MIP:Normal(\",E,\",\",S,\")n=\", n, \"d=\", d)\n",
    "                for iter in 7:10\n",
    "\n",
    "                    local C2 = Float32[1 for i in 1:n, j in 1:n, k in 1:d];\n",
    "                    temp = readdlm(pwd()\"/N(\"*string(E)*\",\"*string(S)*\")/n\"*string(n)*\"d\"*string(d)*\"/Ist\"*string(iter)*\".txt\")\n",
    "                    for( j in 1:n)\n",
    "                        for i in 1:n\n",
    "                            for k in 1:d\n",
    "                                C2[i,j,k] = temp[n*(i-1)+j,k];    \n",
    "                            end\n",
    "                        end\n",
    "                    end\n",
    "                    print(\"Ist\", iter)\n",
    "                    @time solveIP(n,d,C2)\n",
    "\n",
    "                end\n",
    "            end\n",
    "        end \n",
    "    end\n",
    "end\n"
   ]
  },
  {
   "cell_type": "code",
   "execution_count": null,
   "metadata": {
    "collapsed": true,
    "deletable": true,
    "editable": true
   },
   "outputs": [],
   "source": []
  }
 ],
 "metadata": {
  "kernelspec": {
   "display_name": "Julia 0.5.1",
   "language": "julia",
   "name": "julia-0.5"
  },
  "language_info": {
   "file_extension": ".jl",
   "mimetype": "application/julia",
   "name": "julia",
   "version": "0.5.1"
  }
 },
 "nbformat": 4,
 "nbformat_minor": 2
}
